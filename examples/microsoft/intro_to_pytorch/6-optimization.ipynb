{
  "cells": [
    {
      "cell_type": "markdown",
      "source": [
        "# Optimizing the model parameters\n",
        "\n",
        "Now that we have a model and data it's time to train, validate and test our model by optimizing its parameters on our data. Training a model is an iterative process; in each iteration (called an *epoch*). The model makes a guess about the output, calculates the error in its guess (*loss*), collects the derivatives of the error with respect to its parameters (as we saw in the previous module), and **optimizes** these parameters using gradient descent. \n",
        "\n",
        "## Prerequisite code \n",
        "\n",
        "We will load the code from the previous modules on **Datasets & DataLoaders** and **Build Model**"
      ],
      "metadata": {}
    },
    {
      "cell_type": "code",
      "source": [
        "%matplotlib inline\n",
        "import torch\n",
        "from torch import nn\n",
        "from torch.utils.data import DataLoader\n",
        "from torchvision import datasets\n",
        "from torchvision.transforms import ToTensor, Lambda\n",
        "\n",
        "training_data = datasets.FashionMNIST(\n",
        "    root=\"data\",\n",
        "    train=True,\n",
        "    download=True,\n",
        "    transform=ToTensor()\n",
        ")\n",
        "\n",
        "test_data = datasets.FashionMNIST(\n",
        "    root=\"data\",\n",
        "    train=False,\n",
        "    download=True,\n",
        "    transform=ToTensor()\n",
        ")\n",
        "\n",
        "train_dataloader = DataLoader(training_data, batch_size=64)\n",
        "test_dataloader = DataLoader(test_data, batch_size=64)\n",
        "\n",
        "class NeuralNetwork(nn.Module):\n",
        "    def __init__(self):\n",
        "        super(NeuralNetwork, self).__init__()\n",
        "        self.flatten = nn.Flatten()\n",
        "        self.linear_relu_stack = nn.Sequential(\n",
        "            nn.Linear(28*28, 512),\n",
        "            nn.ReLU(),\n",
        "            nn.Linear(512, 512),\n",
        "            nn.ReLU(),\n",
        "            nn.Linear(512, 10),\n",
        "            nn.ReLU()\n",
        "        )\n",
        "\n",
        "    def forward(self, x):\n",
        "        x = self.flatten(x)\n",
        "        logits = self.linear_relu_stack(x)\n",
        "        return logits\n",
        "\n",
        "model = NeuralNetwork()"
      ],
      "outputs": [],
      "execution_count": 2,
      "metadata": {}
    },
    {
      "cell_type": "markdown",
      "source": [
        "## Setting hyperparameters \n",
        "\n",
        "Hyperparameters are adjustable parameters that let you control the model optimization process. \n",
        "Different hyperparameter values can impact model training and the level of accuracy.\n",
        "\n",
        "We define the following hyperparameters for training:\n",
        " - **Number of Epochs** - the number times the entire training dataset is pass through the network. \n",
        " - **Batch Size** - the number of data samples seen by the model in each epoch. Iterates are the number of batches needs to compete an epoch.\n",
        " - **Learning Rate** - the size of steps the model match as it searchs for best weights that will produce a higher model accuracy. Smaller values means the model will take a longer time to find the best weights, while larger values may result in the model step over and misses the best weights which yields unpredictable behavior during training."
      ],
      "metadata": {}
    },
    {
      "cell_type": "code",
      "source": [
        "learning_rate = 1e-3\n",
        "batch_size = 64\n",
        "epochs = 5"
      ],
      "outputs": [],
      "execution_count": 3,
      "metadata": {}
    },
    {
      "cell_type": "markdown",
      "source": [
        "## Add an optimization loop\n",
        "\n",
        "Once we set our hyperparameters, we can then train and optimize our model with an optimization loop. Each \n",
        "iteration of the optimization loop is called an **epoch**. \n",
        "\n",
        "Each epoch consists of two main parts:\n",
        " - **The Train Loop** - iterate over the training dataset and try to converge to optimal parameters.\n",
        " - **The Validation/Test Loop** - iterate over the test dataset to check if model performance is improving.\n",
        "\n",
        "Let's briefly familiarize ourselves with some of the concepts used in the training loop. Jump ahead to \n",
        "see the `full-impl-label` of the optimization loop.\n",
        "\n",
        "### Add a loss function\n",
        "\n",
        "When presented with some training data, our untrained network is likely not to give the correct \n",
        "answer. **Loss function** measures the degree of dissimilarity of obtained result to the target value, \n",
        "and it is the loss function that we want to minimize during training. To calculate the loss we make a \n",
        "prediction using the inputs of our given data sample and compare it against the true data label value.\n",
        "\n",
        "Common loss functions include:\n",
        "- `nn.MSELoss` (Mean Square Error) used for regression tasks\n",
        "- `nn.NLLLoss` (Negative Log Likelihood) used for classification\n",
        "- `nn.CrossEntropyLoss` combines `nn.LogSoftmax` and `nn.NLLLoss`\n",
        "\n",
        "We pass our model's output logits to `nn.CrossEntropyLoss`, which will normalize the logits and compute the prediction error."
      ],
      "metadata": {}
    },
    {
      "cell_type": "code",
      "source": [
        "# Initialize the loss function\n",
        "loss_fn = nn.CrossEntropyLoss()"
      ],
      "outputs": [],
      "execution_count": 4,
      "metadata": {}
    },
    {
      "cell_type": "markdown",
      "source": [
        "### Optimization pass\n",
        "\n",
        "Optimization is the process of adjusting model parameters to reduce model error in each training step. **Optimization algorithms** define how this process is performed (in this example we use Stochastic Gradient Descent).\n",
        "All optimization logic is encapsulated in  the ``optimizer`` object. Here, we use the SGD optimizer; additionally, there are many different optimizers\n",
        "available in PyTorch such as `ADAM' and 'RMSProp`, that work better for different kinds of models and data.\n",
        "\n",
        "We initialize the optimizer by registering the model's parameters that need to be trained, and passing in the learning rate hyperparameter.\n",
        "\n"
      ],
      "metadata": {}
    },
    {
      "cell_type": "code",
      "source": [
        "optimizer = torch.optim.SGD(model.parameters(), lr=learning_rate)"
      ],
      "outputs": [],
      "execution_count": 5,
      "metadata": {}
    },
    {
      "cell_type": "markdown",
      "source": [
        "Inside the training loop, optimization happens in three steps:\n",
        " * Call `optimizer.zero_grad()` to reset the gradients of model parameters. Gradients by default add up; to prevent double-counting, we explicitly zero them at each iteration.\n",
        " * Back-propagate the prediction loss with a call to `loss.backwards()`. PyTorch deposits the gradients of the loss w.r.t. each parameter. \n",
        " * Once we have our gradients, we call ``optimizer.step()`` to adjust the parameters by the gradients collected in the backward pass."
      ],
      "metadata": {}
    },
    {
      "cell_type": "markdown",
      "source": [
        "## Full implementation\n",
        "\n",
        "We define `train_loop` that loops over our optimization code, and `test_loop` that \n",
        "evaluates the model's performance against our test data."
      ],
      "metadata": {}
    },
    {
      "cell_type": "code",
      "source": [
        "def train_loop(dataloader, model, loss_fn, optimizer):\n",
        "    size = len(dataloader.dataset)\n",
        "    for batch, (X, y) in enumerate(dataloader):        \n",
        "        # Compute prediction and loss\n",
        "        pred = model(X)\n",
        "        loss = loss_fn(pred, y)\n",
        "        \n",
        "        # Backpropagation\n",
        "        optimizer.zero_grad()\n",
        "        loss.backward()\n",
        "        optimizer.step()\n",
        "\n",
        "        if batch % 100 == 0:\n",
        "            loss, current = loss.item(), batch * len(X)\n",
        "            print(f\"loss: {loss:>7f}  [{current:>5d}/{size:>5d}]\")\n",
        "\n",
        "\n",
        "def test_loop(dataloader, model, loss_fn):\n",
        "    size = len(dataloader.dataset)\n",
        "    test_loss, correct = 0, 0\n",
        "\n",
        "    with torch.no_grad():\n",
        "        for X, y in dataloader:\n",
        "            pred = model(X)\n",
        "            test_loss += loss_fn(pred, y).item()\n",
        "            correct += (pred.argmax(1) == y).type(torch.float).sum().item()\n",
        "            \n",
        "    test_loss /= size\n",
        "    correct /= size\n",
        "    print(f\"Test Error: \\n Accuracy: {(100*correct):>0.1f}%, Avg loss: {test_loss:>8f} \\n\")"
      ],
      "outputs": [],
      "execution_count": 6,
      "metadata": {}
    },
    {
      "cell_type": "markdown",
      "source": [
        "We initialize the loss function and optimizer, and pass it to `train_loop` and `test_loop`.\n",
        "Feel free to increase the number of epochs to track the model's improving performance."
      ],
      "metadata": {}
    },
    {
      "cell_type": "code",
      "source": [
        "loss_fn = nn.CrossEntropyLoss()\n",
        "optimizer = torch.optim.SGD(model.parameters(), lr=learning_rate)\n",
        "\n",
        "epochs = 10\n",
        "for t in range(epochs):\n",
        "    print(f\"Epoch {t+1}\\n-------------------------------\")\n",
        "    train_loop(train_dataloader, model, loss_fn, optimizer)\n",
        "    test_loop(test_dataloader, model, loss_fn)\n",
        "print(\"Done!\")"
      ],
      "outputs": [
        {
          "output_type": "stream",
          "name": "stdout",
          "text": "Epoch 1\n-------------------------------\nloss: 2.307260  [    0/60000]\nloss: 2.305284  [ 6400/60000]\nloss: 2.293966  [12800/60000]\nloss: 2.291592  [19200/60000]\nloss: 2.288022  [25600/60000]\nloss: 2.259277  [32000/60000]\nloss: 2.277950  [38400/60000]\nloss: 2.252569  [44800/60000]\nloss: 2.238333  [51200/60000]\nloss: 2.239141  [57600/60000]\nTest Error: \n Accuracy: 27.5%, Avg loss: 0.035050 \n\nEpoch 2\n-------------------------------\nloss: 2.222609  [    0/60000]\nloss: 2.244805  [ 6400/60000]\nloss: 2.209550  [12800/60000]\nloss: 2.227453  [19200/60000]\nloss: 2.217051  [25600/60000]\nloss: 2.162092  [32000/60000]\nloss: 2.206926  [38400/60000]\nloss: 2.151579  [44800/60000]\nloss: 2.117667  [51200/60000]\nloss: 2.143689  [57600/60000]\nTest Error: \n Accuracy: 38.9%, Avg loss: 0.033368 \n\nEpoch 3\n-------------------------------\nloss: 2.102783  [    0/60000]\nloss: 2.154025  [ 6400/60000]\nloss: 2.076486  [12800/60000]\nloss: 2.124048  [19200/60000]\nloss: 2.107713  [25600/60000]\nloss: 2.014179  [32000/60000]\nloss: 2.090220  [38400/60000]\nloss: 1.989485  [44800/60000]\nloss: 1.933911  [51200/60000]\nloss: 2.002917  [57600/60000]\nTest Error: \n Accuracy: 41.2%, Avg loss: 0.030885 \n\nEpoch 4\n-------------------------------\nloss: 1.926293  [    0/60000]\nloss: 2.019496  [ 6400/60000]\nloss: 1.888668  [12800/60000]\nloss: 1.987653  [19200/60000]\nloss: 1.968171  [25600/60000]\nloss: 1.838344  [32000/60000]\nloss: 1.951870  [38400/60000]\nloss: 1.808960  [44800/60000]\nloss: 1.749038  [51200/60000]\nloss: 1.868777  [57600/60000]\nTest Error: \n Accuracy: 44.4%, Avg loss: 0.028537 \n\nEpoch 5\n-------------------------------\nloss: 1.754023  [    0/60000]\nloss: 1.889865  [ 6400/60000]\nloss: 1.724985  [12800/60000]\nloss: 1.880932  [19200/60000]\nloss: 1.852289  [25600/60000]\nloss: 1.703095  [32000/60000]\nloss: 1.850078  [38400/60000]\nloss: 1.679640  [44800/60000]\nloss: 1.618462  [51200/60000]\nloss: 1.781099  [57600/60000]\nTest Error: \n Accuracy: 46.4%, Avg loss: 0.026904 \n\nEpoch 6\n-------------------------------\nloss: 1.629323  [    0/60000]\nloss: 1.794621  [ 6400/60000]\nloss: 1.609603  [12800/60000]\nloss: 1.806047  [19200/60000]\nloss: 1.771073  [25600/60000]\nloss: 1.610854  [32000/60000]\nloss: 1.782800  [38400/60000]\nloss: 1.593032  [44800/60000]\nloss: 1.530435  [51200/60000]\nloss: 1.721836  [57600/60000]\nTest Error: \n Accuracy: 47.5%, Avg loss: 0.025738 \n\nEpoch 7\n-------------------------------\nloss: 1.541017  [    0/60000]\nloss: 1.723998  [ 6400/60000]\nloss: 1.525540  [12800/60000]\nloss: 1.745950  [19200/60000]\nloss: 1.714844  [25600/60000]\nloss: 1.542636  [32000/60000]\nloss: 1.735072  [38400/60000]\nloss: 1.529822  [44800/60000]\nloss: 1.467118  [51200/60000]\nloss: 1.675812  [57600/60000]\nTest Error: \n Accuracy: 48.3%, Avg loss: 0.024844 \n\nEpoch 8\n-------------------------------\nloss: 1.474333  [    0/60000]\nloss: 1.669000  [ 6400/60000]\nloss: 1.460421  [12800/60000]\nloss: 1.694097  [19200/60000]\nloss: 1.674764  [25600/60000]\nloss: 1.487773  [32000/60000]\nloss: 1.699166  [38400/60000]\nloss: 1.481064  [44800/60000]\nloss: 1.419311  [51200/60000]\nloss: 1.638599  [57600/60000]\nTest Error: \n Accuracy: 48.7%, Avg loss: 0.024137 \n\nEpoch 9\n-------------------------------\nloss: 1.420322  [    0/60000]\nloss: 1.625176  [ 6400/60000]\nloss: 1.408073  [12800/60000]\nloss: 1.649715  [19200/60000]\nloss: 1.644693  [25600/60000]\nloss: 1.443653  [32000/60000]\nloss: 1.671596  [38400/60000]\nloss: 1.443777  [44800/60000]\nloss: 1.382555  [51200/60000]\nloss: 1.608089  [57600/60000]\nTest Error: \n Accuracy: 49.1%, Avg loss: 0.023570 \n\nEpoch 10\n-------------------------------\nloss: 1.375013  [    0/60000]\nloss: 1.588062  [ 6400/60000]\nloss: 1.364595  [12800/60000]\nloss: 1.612044  [19200/60000]\nloss: 1.621220  [25600/60000]\nloss: 1.407904  [32000/60000]\nloss: 1.649211  [38400/60000]\nloss: 1.415225  [44800/60000]\nloss: 1.353849  [51200/60000]\nloss: 1.582835  [57600/60000]\nTest Error: \n Accuracy: 49.5%, Avg loss: 0.023104 \n\nDone!\n"
        }
      ],
      "execution_count": 7,
      "metadata": {}
    },
    {
      "cell_type": "markdown",
      "source": [
        "You may have noticed that the model is initially not very good (that's OK!). Try running the loop for more `epochs` or adjusting the `learning_rate` to a bigger number. It might also be the case that the model configuration we chose might not be the optimal one for this kind of problem (it isn't). Later courses will delve more into the model shapes that work for vision problems.\n"
      ],
      "metadata": {}
    },
    {
      "cell_type": "markdown",
      "source": [
        "Saving Models\n",
        "-------------\n",
        "\n",
        "When you are satisfied with the model's performance, you can use `torch.save` to save it. PyTorch models store the learned parameters in an internal state dictionary, called `state_dict`. These can be persisted wit the `torch.save` method:"
      ],
      "metadata": {}
    },
    {
      "cell_type": "code",
      "source": [
        "torch.save(model.state_dict(), \"data/model.pth\")\n",
        "\n",
        "print(\"Saved PyTorch Model State to model.pth\")"
      ],
      "outputs": [],
      "execution_count": null,
      "metadata": {}
    }
  ],
  "metadata": {
    "kernelspec": {
      "display_name": "azureml_py38_PT_and_TF",
      "language": "python",
      "name": "conda-env-azureml_py38_PT_and_TF-py"
    },
    "language_info": {
      "codemirror_mode": {
        "name": "ipython",
        "version": 3
      },
      "file_extension": ".py",
      "mimetype": "text/x-python",
      "name": "conda-env-azureml_py38_PT_and_TF-py",
      "nbconvert_exporter": "python",
      "pygments_lexer": "ipython3",
      "version": "3.8.8"
    },
    "nteract": {
      "version": "nteract-front-end@1.0.0"
    }
  },
  "nbformat": 4,
  "nbformat_minor": 1
}